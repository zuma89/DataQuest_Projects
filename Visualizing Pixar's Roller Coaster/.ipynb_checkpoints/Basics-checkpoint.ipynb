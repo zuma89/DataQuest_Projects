{
 "cells": [
  {
   "cell_type": "code",
   "execution_count": 10,
   "metadata": {
    "collapsed": false
   },
   "outputs": [
    {
     "ename": "SyntaxError",
     "evalue": "non-keyword arg after keyword arg (<ipython-input-10-5ead6a417a98>, line 27)",
     "output_type": "error",
     "traceback": [
      "\u001b[1;36m  File \u001b[1;32m\"<ipython-input-10-5ead6a417a98>\"\u001b[1;36m, line \u001b[1;32m27\u001b[0m\n\u001b[1;33m    plt.plot(critics_review, kind=box, figsize(9,5))\u001b[0m\n\u001b[1;37m                                      ^\u001b[0m\n\u001b[1;31mSyntaxError\u001b[0m\u001b[1;31m:\u001b[0m non-keyword arg after keyword arg\n"
     ]
    }
   ],
   "source": [
    "import pandas as pd\n",
    "import matplotlib.pyplot as plt\n",
    "import seaborn as sns\n",
    "%matplotlib inline\n",
    "\n",
    "pixar_movies = pd.read_csv(\"PixarMovies.csv\")\n",
    "\n",
    "print(pixar_movies.shape)\n",
    "\n",
    "print(pixar_movies.head(15))\n",
    "\n",
    "print(pixar_movies.dtypes)\n",
    "\n",
    "print(pixar_movies.describe())\n",
    "\n",
    "pixar_movies[\"Domestic %\"] = pixar_movies[\"Domestic %\"].str.rstrip(\"%\").astype(\"float\")\n",
    "pixar_movies[\"International %\"] = pixar_movies[\"International %\"].str.rstrip(\"%\").astype(\"float\")\n",
    "pixar_movies[\"IMDB Score\"] = pixar_movies[\"IMDB Score\"] * 10\n",
    "filtered_pixar = pixar_movies.loc[0:13]\n",
    "pixar_movies.set_index([\"Movie\"], inplace=True)\n",
    "filtered_pixar.set_index([\"Movie\"], inplace= True)\n",
    "\n",
    "critics_reviews = pixar_movies[[\"RT Score\", \"IMDB Score\", \"Metacritic Score\"]]\n",
    "plt.plot(critics_reviews, figsize(6,10))\n",
    "plt.show()\n",
    "\n",
    "plt.boxplot(critics_review, figsize(9,5))\n",
    "plt.show()\n",
    "\n"
   ]
  },
  {
   "cell_type": "code",
   "execution_count": null,
   "metadata": {
    "collapsed": true
   },
   "outputs": [],
   "source": []
  }
 ],
 "metadata": {
  "kernelspec": {
   "display_name": "Python 3",
   "language": "python",
   "name": "python3"
  },
  "language_info": {
   "codemirror_mode": {
    "name": "ipython",
    "version": 3
   },
   "file_extension": ".py",
   "mimetype": "text/x-python",
   "name": "python",
   "nbconvert_exporter": "python",
   "pygments_lexer": "ipython3",
   "version": "3.4.3"
  }
 },
 "nbformat": 4,
 "nbformat_minor": 0
}
